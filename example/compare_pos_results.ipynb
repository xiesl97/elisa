{
 "cells": [
  {
   "cell_type": "markdown",
   "metadata": {},
   "source": [
    "https://python.arviz.org/en/latest/api/generated/arviz.compare.html"
   ]
  },
  {
   "cell_type": "code",
   "execution_count": 1,
   "metadata": {},
   "outputs": [
    {
     "name": "stderr",
     "output_type": "stream",
     "text": [
      "An NVIDIA GPU may be present on this machine, but a CUDA-enabled jaxlib is not installed. Falling back to cpu.\n"
     ]
    }
   ],
   "source": [
    "from elisa.infer.fit import PosteriorResult\n",
    "\n",
    "f_bay_result_Compt = PosteriorResult.load('/mnt/d/temp/Part10_posresul_Compt.pkl.xz', decompress='lzma')\n",
    "f_bay_result_BlackbodyRad = PosteriorResult.load('/mnt/d/temp/Part10_posresul_BlackbodyRad.pkl.xz', decompress='lzma')\n",
    "f_bay_result_OTTB = PosteriorResult.load('/mnt/d/temp/Part10_posresul_OTTB.pkl.xz', decompress='lzma')"
   ]
  },
  {
   "cell_type": "code",
   "execution_count": 2,
   "metadata": {},
   "outputs": [
    {
     "name": "stderr",
     "output_type": "stream",
     "text": [
      "/home/meotor/anaconda3/lib/python3.11/site-packages/arviz/stats/stats.py:1632: UserWarning: For one or more samples the posterior variance of the log predictive densities exceeds 0.4. This could be indication of WAIC starting to fail. \n",
      "See http://arxiv.org/abs/1507.04544 for details\n",
      "  warnings.warn(\n",
      "/home/meotor/anaconda3/lib/python3.11/site-packages/arviz/stats/stats.py:1632: UserWarning: For one or more samples the posterior variance of the log predictive densities exceeds 0.4. This could be indication of WAIC starting to fail. \n",
      "See http://arxiv.org/abs/1507.04544 for details\n",
      "  warnings.warn(\n"
     ]
    },
    {
     "data": {
      "text/html": [
       "<div>\n",
       "<style scoped>\n",
       "    .dataframe tbody tr th:only-of-type {\n",
       "        vertical-align: middle;\n",
       "    }\n",
       "\n",
       "    .dataframe tbody tr th {\n",
       "        vertical-align: top;\n",
       "    }\n",
       "\n",
       "    .dataframe thead th {\n",
       "        text-align: right;\n",
       "    }\n",
       "</style>\n",
       "<table border=\"1\" class=\"dataframe\">\n",
       "  <thead>\n",
       "    <tr style=\"text-align: right;\">\n",
       "      <th></th>\n",
       "      <th>rank</th>\n",
       "      <th>elpd_waic</th>\n",
       "      <th>p_waic</th>\n",
       "      <th>elpd_diff</th>\n",
       "      <th>weight</th>\n",
       "      <th>se</th>\n",
       "      <th>dse</th>\n",
       "      <th>warning</th>\n",
       "      <th>scale</th>\n",
       "    </tr>\n",
       "  </thead>\n",
       "  <tbody>\n",
       "    <tr>\n",
       "      <th>Compt</th>\n",
       "      <td>0</td>\n",
       "      <td>22.973980</td>\n",
       "      <td>2.378177</td>\n",
       "      <td>0.000000</td>\n",
       "      <td>9.347593e-01</td>\n",
       "      <td>7.476891</td>\n",
       "      <td>0.000000</td>\n",
       "      <td>True</td>\n",
       "      <td>deviance</td>\n",
       "    </tr>\n",
       "    <tr>\n",
       "      <th>BlackbodyRad</th>\n",
       "      <td>1</td>\n",
       "      <td>26.320752</td>\n",
       "      <td>1.988522</td>\n",
       "      <td>3.346772</td>\n",
       "      <td>6.528608e-15</td>\n",
       "      <td>5.782254</td>\n",
       "      <td>4.144575</td>\n",
       "      <td>False</td>\n",
       "      <td>deviance</td>\n",
       "    </tr>\n",
       "    <tr>\n",
       "      <th>OTTB</th>\n",
       "      <td>2</td>\n",
       "      <td>55.976882</td>\n",
       "      <td>4.658357</td>\n",
       "      <td>33.002901</td>\n",
       "      <td>6.524067e-02</td>\n",
       "      <td>10.242586</td>\n",
       "      <td>12.111212</td>\n",
       "      <td>True</td>\n",
       "      <td>deviance</td>\n",
       "    </tr>\n",
       "  </tbody>\n",
       "</table>\n",
       "</div>"
      ],
      "text/plain": [
       "              rank  elpd_waic    p_waic  elpd_diff        weight         se  \\\n",
       "Compt            0  22.973980  2.378177   0.000000  9.347593e-01   7.476891   \n",
       "BlackbodyRad     1  26.320752  1.988522   3.346772  6.528608e-15   5.782254   \n",
       "OTTB             2  55.976882  4.658357  33.002901  6.524067e-02  10.242586   \n",
       "\n",
       "                    dse  warning     scale  \n",
       "Compt          0.000000     True  deviance  \n",
       "BlackbodyRad   4.144575    False  deviance  \n",
       "OTTB          12.111212     True  deviance  "
      ]
     },
     "execution_count": 2,
     "metadata": {},
     "output_type": "execute_result"
    }
   ],
   "source": [
    "import arviz as az\n",
    "res_dic = {\n",
    "    'Compt': f_bay_result_Compt.idata,\n",
    "    'BlackbodyRad': f_bay_result_BlackbodyRad.idata,\n",
    "    'OTTB': f_bay_result_OTTB.idata,\n",
    "}\n",
    "compare_res = az.compare(res_dic, ic='waic', var_name='channels', scale='deviance')\n",
    "compare_res"
   ]
  },
  {
   "cell_type": "code",
   "execution_count": null,
   "metadata": {},
   "outputs": [],
   "source": []
  }
 ],
 "metadata": {
  "kernelspec": {
   "display_name": "base",
   "language": "python",
   "name": "python3"
  },
  "language_info": {
   "codemirror_mode": {
    "name": "ipython",
    "version": 3
   },
   "file_extension": ".py",
   "mimetype": "text/x-python",
   "name": "python",
   "nbconvert_exporter": "python",
   "pygments_lexer": "ipython3",
   "version": "3.11.5"
  }
 },
 "nbformat": 4,
 "nbformat_minor": 2
}
